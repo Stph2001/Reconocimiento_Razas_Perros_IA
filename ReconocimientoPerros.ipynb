{
  "nbformat": 4,
  "nbformat_minor": 0,
  "metadata": {
    "kernelspec": {
      "display_name": "Python 3",
      "language": "python",
      "name": "python3"
    },
    "language_info": {
      "codemirror_mode": {
        "name": "ipython",
        "version": 3
      },
      "file_extension": ".py",
      "mimetype": "text/x-python",
      "name": "python",
      "nbconvert_exporter": "python",
      "pygments_lexer": "ipython3",
      "version": "3.8.5"
    },
    "colab": {
      "name": "TB2-ReconocimientoPerros.ipynb",
      "provenance": [],
      "collapsed_sections": []
    },
    "widgets": {
      "application/vnd.jupyter.widget-state+json": {
        "6024f1461d5e4d3296c3a8f01fd82c82": {
          "model_module": "@jupyter-widgets/controls",
          "model_name": "HBoxModel",
          "model_module_version": "1.5.0",
          "state": {
            "_view_name": "HBoxView",
            "_dom_classes": [],
            "_model_name": "HBoxModel",
            "_view_module": "@jupyter-widgets/controls",
            "_model_module_version": "1.5.0",
            "_view_count": null,
            "_view_module_version": "1.5.0",
            "box_style": "",
            "layout": "IPY_MODEL_89e58dd6c4814c8186e63c21e4c2f34d",
            "_model_module": "@jupyter-widgets/controls",
            "children": [
              "IPY_MODEL_7d5578b711c64a9b8938847a1d14f3a2",
              "IPY_MODEL_29114b90939447a7b8d665b2d5cf29e6"
            ]
          }
        },
        "89e58dd6c4814c8186e63c21e4c2f34d": {
          "model_module": "@jupyter-widgets/base",
          "model_name": "LayoutModel",
          "model_module_version": "1.2.0",
          "state": {
            "_view_name": "LayoutView",
            "grid_template_rows": null,
            "right": null,
            "justify_content": null,
            "_view_module": "@jupyter-widgets/base",
            "overflow": null,
            "_model_module_version": "1.2.0",
            "_view_count": null,
            "flex_flow": null,
            "width": null,
            "min_width": null,
            "border": null,
            "align_items": null,
            "bottom": null,
            "_model_module": "@jupyter-widgets/base",
            "top": null,
            "grid_column": null,
            "overflow_y": null,
            "overflow_x": null,
            "grid_auto_flow": null,
            "grid_area": null,
            "grid_template_columns": null,
            "flex": null,
            "_model_name": "LayoutModel",
            "justify_items": null,
            "grid_row": null,
            "max_height": null,
            "align_content": null,
            "visibility": null,
            "align_self": null,
            "height": null,
            "min_height": null,
            "padding": null,
            "grid_auto_rows": null,
            "grid_gap": null,
            "max_width": null,
            "order": null,
            "_view_module_version": "1.2.0",
            "grid_template_areas": null,
            "object_position": null,
            "object_fit": null,
            "grid_auto_columns": null,
            "margin": null,
            "display": null,
            "left": null
          }
        },
        "7d5578b711c64a9b8938847a1d14f3a2": {
          "model_module": "@jupyter-widgets/controls",
          "model_name": "ButtonModel",
          "model_module_version": "1.5.0",
          "state": {
            "_view_name": "ButtonView",
            "style": "IPY_MODEL_a7d92318bf254a7e9d1e9eea81596ba5",
            "_dom_classes": [],
            "description": "SI",
            "_model_name": "ButtonModel",
            "button_style": "",
            "_view_module": "@jupyter-widgets/controls",
            "_model_module_version": "1.5.0",
            "tooltip": "",
            "_view_count": null,
            "disabled": false,
            "_view_module_version": "1.5.0",
            "layout": "IPY_MODEL_aee7ac48af75470f8cbd7c767cacd4d8",
            "_model_module": "@jupyter-widgets/controls",
            "icon": ""
          }
        },
        "29114b90939447a7b8d665b2d5cf29e6": {
          "model_module": "@jupyter-widgets/controls",
          "model_name": "ButtonModel",
          "model_module_version": "1.5.0",
          "state": {
            "_view_name": "ButtonView",
            "style": "IPY_MODEL_aa857e10da724bc3ad52bc751f0f1bac",
            "_dom_classes": [],
            "description": "NO",
            "_model_name": "ButtonModel",
            "button_style": "",
            "_view_module": "@jupyter-widgets/controls",
            "_model_module_version": "1.5.0",
            "tooltip": "",
            "_view_count": null,
            "disabled": false,
            "_view_module_version": "1.5.0",
            "layout": "IPY_MODEL_50e5104c390c4e78b566633dcfb5b84e",
            "_model_module": "@jupyter-widgets/controls",
            "icon": ""
          }
        },
        "a7d92318bf254a7e9d1e9eea81596ba5": {
          "model_module": "@jupyter-widgets/controls",
          "model_name": "ButtonStyleModel",
          "model_module_version": "1.5.0",
          "state": {
            "_view_name": "StyleView",
            "_model_name": "ButtonStyleModel",
            "_view_module": "@jupyter-widgets/base",
            "_model_module_version": "1.5.0",
            "_view_count": null,
            "button_color": "pink",
            "font_weight": "",
            "_view_module_version": "1.2.0",
            "_model_module": "@jupyter-widgets/controls"
          }
        },
        "aee7ac48af75470f8cbd7c767cacd4d8": {
          "model_module": "@jupyter-widgets/base",
          "model_name": "LayoutModel",
          "model_module_version": "1.2.0",
          "state": {
            "_view_name": "LayoutView",
            "grid_template_rows": null,
            "right": null,
            "justify_content": null,
            "_view_module": "@jupyter-widgets/base",
            "overflow": null,
            "_model_module_version": "1.2.0",
            "_view_count": null,
            "flex_flow": null,
            "width": null,
            "min_width": null,
            "border": null,
            "align_items": null,
            "bottom": null,
            "_model_module": "@jupyter-widgets/base",
            "top": null,
            "grid_column": null,
            "overflow_y": null,
            "overflow_x": null,
            "grid_auto_flow": null,
            "grid_area": null,
            "grid_template_columns": null,
            "flex": null,
            "_model_name": "LayoutModel",
            "justify_items": null,
            "grid_row": null,
            "max_height": null,
            "align_content": null,
            "visibility": null,
            "align_self": null,
            "height": null,
            "min_height": null,
            "padding": null,
            "grid_auto_rows": null,
            "grid_gap": null,
            "max_width": null,
            "order": null,
            "_view_module_version": "1.2.0",
            "grid_template_areas": null,
            "object_position": null,
            "object_fit": null,
            "grid_auto_columns": null,
            "margin": null,
            "display": null,
            "left": null
          }
        },
        "aa857e10da724bc3ad52bc751f0f1bac": {
          "model_module": "@jupyter-widgets/controls",
          "model_name": "ButtonStyleModel",
          "model_module_version": "1.5.0",
          "state": {
            "_view_name": "StyleView",
            "_model_name": "ButtonStyleModel",
            "_view_module": "@jupyter-widgets/base",
            "_model_module_version": "1.5.0",
            "_view_count": null,
            "button_color": "gray",
            "font_weight": "",
            "_view_module_version": "1.2.0",
            "_model_module": "@jupyter-widgets/controls"
          }
        },
        "50e5104c390c4e78b566633dcfb5b84e": {
          "model_module": "@jupyter-widgets/base",
          "model_name": "LayoutModel",
          "model_module_version": "1.2.0",
          "state": {
            "_view_name": "LayoutView",
            "grid_template_rows": null,
            "right": null,
            "justify_content": null,
            "_view_module": "@jupyter-widgets/base",
            "overflow": null,
            "_model_module_version": "1.2.0",
            "_view_count": null,
            "flex_flow": null,
            "width": null,
            "min_width": null,
            "border": null,
            "align_items": null,
            "bottom": null,
            "_model_module": "@jupyter-widgets/base",
            "top": null,
            "grid_column": null,
            "overflow_y": null,
            "overflow_x": null,
            "grid_auto_flow": null,
            "grid_area": null,
            "grid_template_columns": null,
            "flex": null,
            "_model_name": "LayoutModel",
            "justify_items": null,
            "grid_row": null,
            "max_height": null,
            "align_content": null,
            "visibility": null,
            "align_self": null,
            "height": null,
            "min_height": null,
            "padding": null,
            "grid_auto_rows": null,
            "grid_gap": null,
            "max_width": null,
            "order": null,
            "_view_module_version": "1.2.0",
            "grid_template_areas": null,
            "object_position": null,
            "object_fit": null,
            "grid_auto_columns": null,
            "margin": null,
            "display": null,
            "left": null
          }
        }
      }
    }
  },
  "cells": [
    {
      "cell_type": "markdown",
      "metadata": {
        "id": "Uxx20XcNrE7m"
      },
      "source": [
        "# TB2: Dog Breed Finder"
      ]
    },
    {
      "cell_type": "markdown",
      "metadata": {
        "id": "qX3I56n3rbY4"
      },
      "source": [
        "## URLs para pruebas\n",
        "\n",
        "\n",
        "\n",
        "*   Beagle: https://i.pinimg.com/564x/19/0a/27/190a2788e4751d891fba7c3c7c8dd843.jpg \n",
        "*   Labrador: https://i.pinimg.com/564x/ff/70/ae/ff70aea008a76fa6fdc426a843919c06.jpg\n",
        "*   Rotwieler: https://i.pinimg.com/564x/e6/79/93/e67993871349cb43e297b36da3742a8b.jpg\n",
        "*   Chihuahua: https://i.pinimg.com/564x/48/3f/c6/483fc62406bbf73f5d60dc1570657154.jpg\n",
        "\n"
      ]
    },
    {
      "cell_type": "markdown",
      "metadata": {
        "id": "cQzyn3mHnFRu"
      },
      "source": [
        "## Vinculación con Google Drive"
      ]
    },
    {
      "cell_type": "code",
      "metadata": {
        "colab": {
          "base_uri": "https://localhost:8080/"
        },
        "id": "NI63-xgtnFRz",
        "outputId": "d821ce2c-a6dc-41f9-fa3d-63399d68ee9d"
      },
      "source": [
        "from google.colab import drive\n",
        "drive.mount('/content/drive')"
      ],
      "execution_count": null,
      "outputs": [
        {
          "output_type": "stream",
          "name": "stdout",
          "text": [
            "Mounted at /content/drive\n"
          ]
        }
      ]
    },
    {
      "cell_type": "markdown",
      "metadata": {
        "id": "FDEq654anS2-"
      },
      "source": [
        "## Librerías"
      ]
    },
    {
      "cell_type": "code",
      "metadata": {
        "id": "_FzOhVuZnFR1"
      },
      "source": [
        "import os\n",
        "import random as rn\n",
        "import numpy as np\n",
        "from skimage.io import imread\n",
        "from skimage.transform import resize\n",
        "import matplotlib.pyplot as plt\n",
        "import cv2\n",
        "from sklearn.model_selection import train_test_split\n",
        "from tensorflow.python.keras.models import Sequential\n",
        "from tensorflow.python.keras.layers import Dense, Conv2D, MaxPool2D, Flatten\n",
        "from tensorflow.keras.optimizers import SGD\n",
        "from tensorflow.keras.preprocessing import image\n",
        "from tensorflow.keras.utils import plot_model\n",
        "from ipywidgets import Button, HBox\n",
        "%matplotlib inline"
      ],
      "execution_count": null,
      "outputs": []
    },
    {
      "cell_type": "markdown",
      "metadata": {
        "id": "GLs6nzHcnY-C"
      },
      "source": [
        "## Lectura de Datos\n",
        "#### Acá se reemplaza la ruta del dataset"
      ]
    },
    {
      "cell_type": "code",
      "metadata": {
        "id": "PtJ7xDWonWoQ"
      },
      "source": [
        "dataset = '/content/drive/MyDrive/' + 'dataset_perros/'"
      ],
      "execution_count": null,
      "outputs": []
    },
    {
      "cell_type": "markdown",
      "metadata": {
        "id": "MXTzJvHanr4p"
      },
      "source": [
        "#### Se lee cada una de las imágenes de los 10 directorios de razas de perros del dataset\n",
        "#### Se reescala todas las imágenes a 80x80 píxeles y se convierte a escala de grises.\n",
        "#### Estas 2 cosas se hacen para la optimización y facilidad"
      ]
    },
    {
      "cell_type": "code",
      "metadata": {
        "id": "XTPMVj88ni0R"
      },
      "source": [
        "DATADIR = dataset\n",
        "RAZAS = [\"Beagle\", \"Chihuahua\", \"Coker\", \"Doberman\", \"Golden Retriever\", \"Labrador\", \"Pastor Aleman\", \"Rotwieler\", \"Shih Tzu\", \"Yorkie\"]\n",
        "\n",
        "hg = 80\n",
        "\n",
        "def datos():\n",
        "  data = []\n",
        "  for raza in RAZAS:\n",
        "    path = os.path.join(DATADIR, raza)\n",
        "\n",
        "    label = RAZAS.index(raza)\n",
        "    print(label)\n",
        "\n",
        "    listdir = os.listdir(path)\n",
        "\n",
        "    for i in range(len(listdir)):\n",
        "      image_name = listdir[i]\n",
        "      img_path = os.path.join(path, image_name)\n",
        "\n",
        "      try:\n",
        "        img = cv2.imread(img_path, cv2.IMREAD_GRAYSCALE)\n",
        "        img = cv2.resize(img, (hg, hg))\n",
        "      except Exception as e:\n",
        "        pass\n",
        "\n",
        "      data.append([img, label])\n",
        "  \n",
        "  return data"
      ],
      "execution_count": null,
      "outputs": []
    },
    {
      "cell_type": "markdown",
      "metadata": {
        "id": "AKmUMQpJssj9"
      },
      "source": [
        "#### También se aplica un shuffle que origina que se ponga al azar los datos"
      ]
    },
    {
      "cell_type": "code",
      "metadata": {
        "colab": {
          "base_uri": "https://localhost:8080/"
        },
        "id": "U30BImmCe9h_",
        "outputId": "7f92d634-ef51-4e2f-e424-3b47c4daba90"
      },
      "source": [
        "data = datos()\n",
        "\n",
        "rn.shuffle(data)\n",
        "x, y = [], []\n",
        "\n",
        "n = len(data)\n",
        "for i in range(n):\n",
        "  x.append(data[i][0])\n",
        "  y.append(data[i][1])\n",
        "\n",
        "x = np.array(x).reshape(-1, hg, hg, 1)\n",
        "x = x/255.0\n",
        "y = np.array(y)\n",
        "print(\"Lectura de datos exitosa!!\")"
      ],
      "execution_count": null,
      "outputs": [
        {
          "output_type": "stream",
          "name": "stdout",
          "text": [
            "0\n",
            "1\n",
            "2\n",
            "3\n",
            "4\n",
            "5\n",
            "6\n",
            "7\n",
            "8\n",
            "9\n",
            "Lectura de datos exitosa!!\n"
          ]
        }
      ]
    },
    {
      "cell_type": "markdown",
      "metadata": {
        "id": "6lxccEJos1Pa"
      },
      "source": [
        "## Cantidad de imágenes por Raza de Perro"
      ]
    },
    {
      "cell_type": "code",
      "metadata": {
        "colab": {
          "base_uri": "https://localhost:8080/",
          "height": 204
        },
        "id": "IVma5VrBfxrd",
        "outputId": "d50cbc11-5c5a-4471-a890-496c3a1828a5"
      },
      "source": [
        "plt.figure(figsize=(10, 2))\n",
        "plt.title(\"Cantidad de muestras x Raza de Perro\")\n",
        "plt.ylabel(\"Cantidad\")\n",
        "plt.xlabel(\"Raza\")\n",
        "plt.hist(y, bins=10)\n",
        "plt.plot()"
      ],
      "execution_count": null,
      "outputs": [
        {
          "output_type": "execute_result",
          "data": {
            "text/plain": [
              "[]"
            ]
          },
          "metadata": {},
          "execution_count": 6
        },
        {
          "output_type": "display_data",
          "data": {
            "image/png": "[encoded data removed]",
            "text/plain": [
              "<Figure size 720x144 with 1 Axes>"
            ]
          },
          "metadata": {
            "needs_background": "light"
          }
        }
      ]
    },
    {
      "cell_type": "markdown",
      "metadata": {
        "id": "o0W7STZ4gTj1"
      },
      "source": [
        "## Separar imagenes de entrenamiento y testeo\n",
        "#### Con el test_size, se logra dividir el dataset en entrenamiento y testeo. Lo hemos puesto en 80% entrenamiento y 20% testeo"
      ]
    },
    {
      "cell_type": "code",
      "metadata": {
        "id": "vVenWf1hgBah"
      },
      "source": [
        "X_train, X_test, y_train, y_test = train_test_split(x, y, test_size=0.20, stratify=y)"
      ],
      "execution_count": null,
      "outputs": []
    },
    {
      "cell_type": "markdown",
      "metadata": {
        "id": "TJZmABNxgbWn"
      },
      "source": [
        "## Red Neuronal Convolucional"
      ]
    },
    {
      "cell_type": "markdown",
      "metadata": {
        "id": "8NQMD7zttI9s"
      },
      "source": [
        "#### Ajustando la red neuronal"
      ]
    },
    {
      "cell_type": "code",
      "metadata": {
        "colab": {
          "base_uri": "https://localhost:8080/"
        },
        "id": "9Ek5FSbKgaj5",
        "outputId": "eee22946-b689-45e9-a511-cd3d69324902"
      },
      "source": [
        "bs = 16\n",
        "model = Sequential([Conv2D(32, 3, activation='relu', input_shape=(hg, hg, 1), padding='same'),\n",
        "                    MaxPool2D(),\n",
        "                    Conv2D(64, 3, activation='relu', padding='same'),\n",
        "                    MaxPool2D(),\n",
        "                    Conv2D(128, 3, activation='relu', padding='same'),\n",
        "                    MaxPool2D(),\n",
        "                    Flatten(),\n",
        "                    Dense(128, activation='relu'), \n",
        "                    Dense(10, activation='softmax')]) \n",
        "model.compile(optimizer = 'adam', loss='sparse_categorical_crossentropy', metrics=['accuracy'])\n",
        "model.summary()"
      ],
      "execution_count": null,
      "outputs": [
        {
          "output_type": "stream",
          "name": "stdout",
          "text": [
            "Model: \"sequential\"\n",
            "_________________________________________________________________\n",
            "Layer (type)                 Output Shape              Param #   \n",
            "=================================================================\n",
            "conv2d (Conv2D)              (None, 80, 80, 32)        320       \n",
            "_________________________________________________________________\n",
            "max_pooling2d (MaxPooling2D) (None, 40, 40, 32)        0         \n",
            "_________________________________________________________________\n",
            "conv2d_1 (Conv2D)            (None, 40, 40, 64)        18496     \n",
            "_________________________________________________________________\n",
            "max_pooling2d_1 (MaxPooling2 (None, 20, 20, 64)        0         \n",
            "_________________________________________________________________\n",
            "conv2d_2 (Conv2D)            (None, 20, 20, 128)       73856     \n",
            "_________________________________________________________________\n",
            "max_pooling2d_2 (MaxPooling2 (None, 10, 10, 128)       0         \n",
            "_________________________________________________________________\n",
            "flatten (Flatten)            (None, 12800)             0         \n",
            "_________________________________________________________________\n",
            "dense (Dense)                (None, 128)               1638528   \n",
            "_________________________________________________________________\n",
            "dense_1 (Dense)              (None, 10)                1290      \n",
            "=================================================================\n",
            "Total params: 1,732,490\n",
            "Trainable params: 1,732,490\n",
            "Non-trainable params: 0\n",
            "_________________________________________________________________\n"
          ]
        }
      ]
    },
    {
      "cell_type": "markdown",
      "metadata": {
        "id": "4q6hs5vYgoQu"
      },
      "source": [
        "## Entrenamiento y Guardado de la Red Neuronal"
      ]
    },
    {
      "cell_type": "code",
      "metadata": {
        "id": "FLrCXY--gsSj"
      },
      "source": [
        "log = model.fit(X_train,y_train, epochs = 5, batch_size = bs, verbose = 0, validation_data = (X_test, y_test))"
      ],
      "execution_count": null,
      "outputs": []
    },
    {
      "cell_type": "code",
      "metadata": {
        "id": "-mGD6coogwum"
      },
      "source": [
        "model.save_weights(dataset + 'save_model/')"
      ],
      "execution_count": null,
      "outputs": []
    },
    {
      "cell_type": "markdown",
      "metadata": {
        "id": "C_2Fujr8g5Em"
      },
      "source": [
        "## Cargado y Resultado de la Red Neuronal"
      ]
    },
    {
      "cell_type": "code",
      "metadata": {
        "colab": {
          "base_uri": "https://localhost:8080/"
        },
        "id": "4nLOagyvhCKN",
        "outputId": "8f35796f-39dc-48cf-fe89-0c608f61ac87"
      },
      "source": [
        "loss, acc = model.evaluate(X_test, y_test, batch_size = 512, verbose = False)\n",
        "print(f'Loss     = {loss:.4f}')\n",
        "print(f'Accuracy = {acc:.4f}')"
      ],
      "execution_count": null,
      "outputs": [
        {
          "output_type": "stream",
          "name": "stdout",
          "text": [
            "Loss     = 6.9313\n",
            "Accuracy = 0.3450\n"
          ]
        }
      ]
    },
    {
      "cell_type": "markdown",
      "metadata": {
        "id": "1291ClpdhFhG"
      },
      "source": [
        "## Test\n",
        "#### Para el test se saca una imágen del grupo guardado del testeo anterior"
      ]
    },
    {
      "cell_type": "code",
      "metadata": {
        "colab": {
          "base_uri": "https://localhost:8080/",
          "height": 315
        },
        "id": "d56Uo0I1hEdy",
        "outputId": "ce644edc-8a3b-46a3-e859-278be45a2f3e"
      },
      "source": [
        "idx = np.random.choice(X_test.shape[0], 1)[0]\n",
        "im = X_test[idx]\n",
        "print(im.shape)\n",
        "label = y_test[idx]\n",
        "plt.title('(test) id:{} val:{}'.format(idx, RAZAS[label]))\n",
        "plt.axis('off')\n",
        "plt.imshow(-im[:,:,0], cmap='gray')\n",
        "plt.show()\n",
        "salida = model.predict(im[None,:,:,:])[0]\n",
        "print(salida)"
      ],
      "execution_count": null,
      "outputs": [
        {
          "output_type": "stream",
          "name": "stdout",
          "text": [
            "(80, 80, 1)\n"
          ]
        },
        {
          "output_type": "display_data",
          "data": {
            "image/png": "[encoded data removed]",
            "text/plain": [
              "<Figure size 432x288 with 1 Axes>"
            ]
          },
          "metadata": {
            "needs_background": "light"
          }
        },
        {
          "output_type": "stream",
          "name": "stdout",
          "text": [
            "[9.9988985e-01 1.0778826e-09 3.0916842e-11 3.4004091e-09 1.4205438e-07\n",
            " 5.4248005e-08 8.3414662e-08 4.2515373e-07 1.0939297e-04 4.9868715e-10]\n"
          ]
        }
      ]
    },
    {
      "cell_type": "markdown",
      "metadata": {
        "id": "hbbi8UB_tXRt"
      },
      "source": [
        "## Predicción de la red neuronal"
      ]
    },
    {
      "cell_type": "code",
      "metadata": {
        "colab": {
          "base_uri": "https://localhost:8080/",
          "height": 204
        },
        "id": "BokW6x52hO6f",
        "outputId": "3070ad6a-8822-4617-a7a1-94a7cc1ab889"
      },
      "source": [
        "plt.figure(figsize=(20, 2))\n",
        "plt.title(\"Predicción: {} | Label: {}\".format(RAZAS[salida.argmax()], RAZAS[label]))\n",
        "plt.ylabel(\"Probabilidad\")\n",
        "plt.xlabel(\"Raza de Perro\")\n",
        "plt.ylim([0, 1])\n",
        "plt.bar(RAZAS, salida)"
      ],
      "execution_count": null,
      "outputs": [
        {
          "output_type": "execute_result",
          "data": {
            "text/plain": [
              "<BarContainer object of 10 artists>"
            ]
          },
          "metadata": {},
          "execution_count": 52
        },
        {
          "output_type": "display_data",
          "data": {
            "image/png": "[encoded data removed]",
            "text/plain": [
              "<Figure size 1440x144 with 1 Axes>"
            ]
          },
          "metadata": {
            "needs_background": "light"
          }
        }
      ]
    },
    {
      "cell_type": "markdown",
      "metadata": {
        "id": "swhNrmE7LHFF"
      },
      "source": [
        "## Test con imagen de Web\n",
        "#### Acá se utiliza una dirección url de una imágen. Se puede utilizar los links del comienzo del programa para mayor facilidad."
      ]
    },
    {
      "cell_type": "code",
      "metadata": {
        "colab": {
          "base_uri": "https://localhost:8080/",
          "height": 319
        },
        "id": "RDHvK0L_iTSW",
        "outputId": "792b3740-1b3c-4fc6-c458-65167e3c746f"
      },
      "source": [
        "link = input()\n",
        "temp_path = dataset + 'temp/temp.jpg'\n",
        "\n",
        "real_image = imread(link)\n",
        "cv2.imwrite(temp_path, real_image)\n",
        "\n",
        "real_image = cv2.imread(temp_path, cv2.IMREAD_GRAYSCALE)\n",
        "x = cv2.resize(real_image, (hg,hg))\n",
        "\n",
        "p = []\n",
        "p.append(x)\n",
        "p = np.array(p).reshape(-1, hg, hg, 1)\n",
        "p = p/255.0\n",
        "\n",
        "mn = p[0]\n",
        "plt.imshow(-mn[:,:,0], cmap='gray')\n",
        "plt.show()\n",
        "\n",
        "salida2 = model.predict(mn[None,:,:,:])[0]\n",
        "print(salida2)"
      ],
      "execution_count": null,
      "outputs": [
        {
          "name": "stdout",
          "output_type": "stream",
          "text": [
            "https://i.pinimg.com/564x/30/45/a8/3045a8ea5fa974a9f69fcbfe753ac6a0.jpg\n"
          ]
        },
        {
          "output_type": "display_data",
          "data": {
            "image/png": "[encoded data removed]",
            "text/plain": [
              "<Figure size 432x288 with 1 Axes>"
            ]
          },
          "metadata": {
            "needs_background": "light"
          }
        },
        {
          "output_type": "stream",
          "name": "stdout",
          "text": [
            "[9.9304789e-01 8.1033970e-05 6.6597935e-11 8.8686919e-13 5.2399959e-05\n",
            " 2.5420763e-13 2.2801838e-05 2.5462552e-07 6.7955209e-03 5.2443441e-09]\n"
          ]
        }
      ]
    },
    {
      "cell_type": "markdown",
      "metadata": {
        "id": "ndCmzzigtp0z"
      },
      "source": [
        "## Predicción en base al link"
      ]
    },
    {
      "cell_type": "code",
      "metadata": {
        "colab": {
          "base_uri": "https://localhost:8080/",
          "height": 204
        },
        "id": "4tEvL_3hMYzK",
        "outputId": "f32cf7a0-127b-4f4d-d34c-f04bb4947e47"
      },
      "source": [
        "plt.figure(figsize=(20, 2))\n",
        "plt.title(\"Predicción: {} \".format(RAZAS[salida2.argmax()], RAZAS[label]))\n",
        "plt.ylabel(\"Probabilidad\")\n",
        "plt.xlabel(\"Raza de Perro\")\n",
        "plt.ylim([0,1])\n",
        "plt.bar(RAZAS, salida2)"
      ],
      "execution_count": null,
      "outputs": [
        {
          "output_type": "execute_result",
          "data": {
            "text/plain": [
              "<BarContainer object of 10 artists>"
            ]
          },
          "metadata": {},
          "execution_count": 50
        },
        {
          "output_type": "display_data",
          "data": {
            "image/png": "[encoded data removed]",
            "text/plain": [
              "<Figure size 1440x144 with 1 Axes>"
            ]
          },
          "metadata": {
            "needs_background": "light"
          }
        }
      ]
    },
    {
      "cell_type": "markdown",
      "metadata": {
        "id": "HlavxAjONv7a"
      },
      "source": [
        "## Función para poder agregar una nueva imagen en el dataset de las razas de perro"
      ]
    },
    {
      "cell_type": "code",
      "metadata": {
        "id": "BpytcZHbMfGL"
      },
      "source": [
        "def saveInDataSet():\n",
        "  number = rn.uniform(1,10000000)\n",
        "  save_path = DATADIR + RAZAS[salida2.argmax()] + '/' + str(number) +'.jpg'\n",
        "  cv2.imwrite(save_path, real_image)\n",
        "  print(\"Gracias por contribuir\")\n",
        "  print(\"La imagen se guardó en: \", save_path)"
      ],
      "execution_count": null,
      "outputs": []
    },
    {
      "cell_type": "markdown",
      "metadata": {
        "id": "4xrZGffZN7xs"
      },
      "source": [
        "## ¿La predicción fue correcta?"
      ]
    },
    {
      "cell_type": "code",
      "metadata": {
        "colab": {
          "base_uri": "https://localhost:8080/",
          "height": 83,
          "referenced_widgets": [
            "6024f1461d5e4d3296c3a8f01fd82c82",
            "89e58dd6c4814c8186e63c21e4c2f34d",
            "7d5578b711c64a9b8938847a1d14f3a2",
            "29114b90939447a7b8d665b2d5cf29e6",
            "a7d92318bf254a7e9d1e9eea81596ba5",
            "aee7ac48af75470f8cbd7c767cacd4d8",
            "aa857e10da724bc3ad52bc751f0f1bac",
            "50e5104c390c4e78b566633dcfb5b84e"
          ]
        },
        "id": "zjjj9yObN_EM",
        "outputId": "aa52d866-e27c-415c-cbdb-8f5d826ac046"
      },
      "source": [
        "thisandthat = ['SI', 'NO']\n",
        "\n",
        "switch = [Button(description=name) for name in thisandthat]\n",
        "\n",
        "combined = HBox([items for items in switch])\n",
        "\n",
        "def upon_clicked(btn):\n",
        "    print(f'The circuit is {btn.description}.', end='\\x1b\\r')\n",
        "    for n in range(len(thisandthat)):\n",
        "        switch[n].style.button_color = 'gray'\n",
        "    btn.style.button_color = 'pink'\n",
        "    if (btn.description=='SI'):\n",
        "      saveInDataSet()\n",
        "    else:\n",
        "      print('La predicción fue errónea, pruebe con otra imagen.')\n",
        "\n",
        "\n",
        "for n in range(len(thisandthat)):\n",
        "    switch[n].on_click(upon_clicked)\n",
        "\n",
        "display(combined)"
      ],
      "execution_count": null,
      "outputs": [
        {
          "output_type": "display_data",
          "data": {
            "application/vnd.jupyter.widget-view+json": {
              "model_id": "6024f1461d5e4d3296c3a8f01fd82c82",
              "version_minor": 0,
              "version_major": 2
            },
            "text/plain": [
              "HBox(children=(Button(description='SI', style=ButtonStyle()), Button(description='NO', style=ButtonStyle())))"
            ]
          },
          "metadata": {}
        },
        {
          "output_type": "stream",
          "name": "stdout",
          "text": [
            "The circuit is SI.\u001b\rGracias por contribuir\n",
            "La imagen se guardó en:  /content/drive/MyDrive/dataset_perros/Labrador/6901762.130446544.jpg\n"
          ]
        }
      ]
    }
  ]
}